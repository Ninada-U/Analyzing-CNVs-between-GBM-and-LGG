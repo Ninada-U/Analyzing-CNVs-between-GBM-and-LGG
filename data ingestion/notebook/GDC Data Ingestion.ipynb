{
 "cells": [
  {
   "cell_type": "code",
   "execution_count": 150,
   "metadata": {},
   "outputs": [
    {
     "name": "stdout",
     "output_type": "stream",
     "text": [
      "warnings:  {}\n",
      "number of hits:  507\n"
     ]
    }
   ],
   "source": [
    "import requests\n",
    "import json\n",
    "import pprint\n",
    "\n",
    "fields = [\n",
    "    'files.data_category',\n",
    "    'files.data_format',\n",
    "    'files.file_id'\n",
    "    ]\n",
    "\n",
    "fields = \",\".join(fields)\n",
    "\n",
    "endpt = \"https://api.gdc.cancer.gov/cases\"\n",
    "\n",
    "filters = {\n",
    "    \"op\": \"and\",\n",
    "    \"content\":[\n",
    "        {\n",
    "            'op': 'in',\n",
    "            'content': {\n",
    "                'field': 'project.program.name',  # program\n",
    "                'value': ['TCGA']\n",
    "            }\n",
    "        },\n",
    "        {\n",
    "            'op': 'in',\n",
    "            'content': {\n",
    "                'field': 'project.name',  # project\n",
    "                # either 'Glioblastoma Multiforme' or 'Brain Lower Grade Glioma'\n",
    "                'value': ['Glioblastoma Multiforme']\n",
    "            }\n",
    "        },\n",
    "        {\n",
    "            \"op\": \"in\",\n",
    "            \"content\":{\n",
    "                \"field\": \"cases.project.primary_site\",  # primary site\n",
    "                \"value\": [\"Brain\"]\n",
    "            }\n",
    "        },\n",
    "        {\n",
    "            \"op\": \"in\",\n",
    "            \"content\":{\n",
    "                \"field\": \"demographic.race\",  # race\n",
    "                \"value\": [\"White\"]\n",
    "            }\n",
    "        }\n",
    "    ]\n",
    "}\n",
    "\n",
    "params = {\n",
    "    \"filters\": filters,\n",
    "    \"fields\": fields,\n",
    "    'sort': 'submitter_id:asc',\n",
    "    'size': 1000  # should be >= number of hits outputted\n",
    "    }\n",
    "js = requests.post(endpt, headers = {\"Content-Type\": \"application/json\"}, json = params).json()\n",
    "print('warnings: ', js['warnings'])\n",
    "print('number of hits: ', js['data']['pagination']['total'])\n",
    "# print(json.dumps(js, indent=2))\n",
    "case_files = {}\n",
    "for case in js['data']['hits']:\n",
    "#     pprint.pprint(case)\n",
    "    vcfs = []\n",
    "    if any((d['data_format'] == 'VCF' and \\\n",
    "            d['data_category'] == 'Simple Nucleotide Variation') for d in case['files']):\n",
    "        for d in case['files']:\n",
    "            if d['data_format'] == 'VCF':\n",
    "                vcfs.append(d['file_id'])\n",
    "        case_files[case['id']] = {'vcfs': vcfs}\n"
   ]
  },
  {
   "cell_type": "markdown",
   "metadata": {},
   "source": [
    "Post Request to Download Multiple Files "
   ]
  },
  {
   "cell_type": "code",
   "execution_count": 158,
   "metadata": {},
   "outputs": [
    {
     "name": "stdout",
     "output_type": "stream",
     "text": [
      "['ca9b0df8-a440-4c4f-9bad-4c877da13955', '82c0449d-53cf-4e78-8a13-ffb501ead24f', '5d6a6b23-6b16-4938-ac3f-022fa5367a6c', '18d86dda-71e8-495a-a6f5-4a43e66c2e6f', '5909647c-05c4-47da-9bc9-30b77f21047a', 'b7a0f479-7c15-436f-9c2f-088d1d11ab32', 'f81d138e-62ef-4491-b4d0-65c2e07957b9', 'ca262127-69db-4836-b4d3-a5726e80ce77']\n"
     ]
    }
   ],
   "source": [
    "import requests\n",
    "import json\n",
    "import re\n",
    "\n",
    "data_endpt = \"https://api.gdc.cancer.gov/data\"\n",
    "\n",
    "for case in list(case_files.keys())[:1]:\n",
    "    ids = case_files[case]['vcfs']\n",
    "    print(ids)\n",
    "\n",
    "\n",
    "params = {\"ids\": ids}\n",
    "\n",
    "response = requests.post(data_endpt,\n",
    "                        data = json.dumps(params),\n",
    "                        headers={\n",
    "                            \"Content-Type\": \"application/json\"\n",
    "                            })"
   ]
  },
  {
   "cell_type": "code",
   "execution_count": 159,
   "metadata": {},
   "outputs": [
    {
     "data": {
      "text/plain": [
       "<Response [403]>"
      ]
     },
     "execution_count": 159,
     "metadata": {},
     "output_type": "execute_result"
    }
   ],
   "source": [
    "response  # need access token"
   ]
  },
  {
   "cell_type": "code",
   "execution_count": null,
   "metadata": {},
   "outputs": [],
   "source": [
    "response_head_cd = response.headers[\"Content-Disposition\"]\n",
    "\n",
    "file_name = re.findall(\"filename=(.+)\", response_head_cd)[0]\n",
    "\n",
    "with open(file_name, \"wb\") as output_file:\n",
    "    output_file.write(response.content)"
   ]
  },
  {
   "cell_type": "code",
   "execution_count": 105,
   "metadata": {},
   "outputs": [
    {
     "data": {
      "text/plain": [
       "'gdc_download_20200411_204637.810914.tar.gz'"
      ]
     },
     "execution_count": 105,
     "metadata": {},
     "output_type": "execute_result"
    }
   ],
   "source": [
    "file_name"
   ]
  },
  {
   "cell_type": "code",
   "execution_count": null,
   "metadata": {},
   "outputs": [],
   "source": []
  }
 ],
 "metadata": {
  "kernelspec": {
   "display_name": "Python 3",
   "language": "python",
   "name": "python3"
  },
  "language_info": {
   "codemirror_mode": {
    "name": "ipython",
    "version": 3
   },
   "file_extension": ".py",
   "mimetype": "text/x-python",
   "name": "python",
   "nbconvert_exporter": "python",
   "pygments_lexer": "ipython3",
   "version": "3.7.4"
  }
 },
 "nbformat": 4,
 "nbformat_minor": 2
}
